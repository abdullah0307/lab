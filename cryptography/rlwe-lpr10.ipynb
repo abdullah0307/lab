{
 "cells": [
  {
   "cell_type": "markdown",
   "metadata": {},
   "source": [
    "# [LPR's RLWE](https://eprint.iacr.org/2012/230.pdf) Public Key Cryptosystem\n",
    "\n",
    "- [On Ideal Lattices and Learning with Errors Over Rings](https://eprint.iacr.org/2012/230.pdf)\n",
    "- [Learning With Errors and Ring Learning With Errors](https://medium.com/asecuritysite-when-bob-met-alice/learning-with-errors-and-ring-learning-with-errors-23516a502406)\n",
    "- [A Homomorphic Encryption Illustrated Primer](https://blog.n1analytics.com/homomorphic-encryption-illustrated-primer/)"
   ]
  },
  {
   "cell_type": "code",
   "execution_count": 1,
   "metadata": {},
   "outputs": [],
   "source": [
    "import numpy as np\n",
    "from numpy.testing import assert_array_equal"
   ]
  },
  {
   "cell_type": "code",
   "execution_count": 2,
   "metadata": {},
   "outputs": [],
   "source": [
    "# NOTE: Uncomment to simplfy debugging\n",
    "# np.random.seed(1)"
   ]
  },
  {
   "cell_type": "markdown",
   "metadata": {},
   "source": [
    "## Utility Functions"
   ]
  },
  {
   "cell_type": "code",
   "execution_count": 3,
   "metadata": {},
   "outputs": [],
   "source": [
    "def polymod(poly, poly_mod, coeff_mod):\n",
    "    \"\"\"\n",
    "    Computes the remainder after a polynomial division\n",
    "    Args:\n",
    "        poly: Polynomial\n",
    "        poly_mod: Polynomial modulus\n",
    "        coeff_mod: Coefficient modulus\n",
    "    Returns:\n",
    "        The coefficients of the remainder when `poly` is divided by `poly_mod`\n",
    "    \"\"\"\n",
    "    return np.poly1d(np.floor(np.polydiv(poly, poly_mod)[1]) % coeff_mod)\n",
    "\n",
    "def test():\n",
    "    coeff_mod = 10\n",
    "    # x^16 + 1\n",
    "    poly_mod = np.poly1d([1] + (15 * [0]) + [1])\n",
    "    # 2x^14\n",
    "    a = np.poly1d([2] + (14 * [0]))\n",
    "    # x^4\n",
    "    b = np.poly1d([1] + (4 * [0]))\n",
    "    # 2x^14 * x^4 = 2x^18\n",
    "    result_mul = np.polymul(a, b)\n",
    "    assert_array_equal(result_mul, np.poly1d([2] + (18 * [0])))\n",
    "    # 2x^18 % x^16 + 1 = -2x^2\n",
    "    result_mod = polymod(result_mul, poly_mod, coeff_mod)\n",
    "    assert_array_equal(result_mod, np.poly1d([8, 0, 0]))\n",
    "\n",
    "test()"
   ]
  },
  {
   "cell_type": "code",
   "execution_count": 4,
   "metadata": {},
   "outputs": [],
   "source": [
    "def addition(poly_mod, coeff_mod):\n",
    "    \"\"\"\n",
    "    Creates a function which performs polynomial addition and auto-applys polynomial- and coefficient modulus\n",
    "    Args:\n",
    "        poly_mod: Polynomial modulus\n",
    "        coeff_mod: Coefficient modulus\n",
    "    Returns:\n",
    "        A function which takes polynomials `a` and `b` and adds them together\n",
    "    \"\"\"\n",
    "    return lambda a, b: np.poly1d(polymod(np.polyadd(a, b), poly_mod, coeff_mod))\n",
    "\n",
    "def test():\n",
    "    coeff_mod = 8\n",
    "    # x^4 + 1\n",
    "    poly_mod = np.poly1d([1] + (3 * [0]) + [1])\n",
    "    a = np.poly1d([1, 2, 3, 4])\n",
    "    b = np.poly1d([1, 2, 3, 4])\n",
    "    add = addition(poly_mod, coeff_mod)\n",
    "    result = add(a, b)\n",
    "    assert_array_equal(result, np.poly1d([2, 4, 6, 0]))\n",
    "\n",
    "test()"
   ]
  },
  {
   "cell_type": "code",
   "execution_count": 5,
   "metadata": {},
   "outputs": [],
   "source": [
    "def multiplication(poly_mod, coeff_mod):\n",
    "    \"\"\"\n",
    "    Creates a function which performs polynomial multiplication and auto-applys polynomial- and coefficient modulus\n",
    "    Args:\n",
    "        poly_mod: Polynomial modulus\n",
    "        coeff_mod: Coefficient modulus\n",
    "    Returns:\n",
    "        A function which takes polynomials `a` and `b` and multiplies them\n",
    "    \"\"\"\n",
    "    return lambda a, b: np.poly1d(polymod(np.polymul(a, b), poly_mod, coeff_mod))\n",
    "\n",
    "def test():\n",
    "    coeff_mod = 8\n",
    "    # x^4 + 1\n",
    "    poly_mod = np.poly1d([1] + (3 * [0]) + [1])\n",
    "    a = np.poly1d([1, 2, 3, 4])\n",
    "    b = np.poly1d([1, 2, 3, 4])\n",
    "    mul = multiplication(poly_mod, coeff_mod)\n",
    "    result = mul(a, b)\n",
    "    assert_array_equal(result, np.poly1d([4, 0, 4, 6]))\n",
    "\n",
    "test()"
   ]
  },
  {
   "cell_type": "markdown",
   "metadata": {},
   "source": [
    "## Security Parameters"
   ]
  },
  {
   "cell_type": "code",
   "execution_count": 6,
   "metadata": {},
   "outputs": [
    {
     "name": "stdout",
     "output_type": "stream",
     "text": [
      "n: 4\n",
      "t: 7\n",
      "d: 16\n",
      "delta: 124\n",
      "c_q: 874\n",
      "p_q: \n",
      "   16\n",
      "1 x  + 1\n"
     ]
    }
   ],
   "source": [
    "n = 4\n",
    "t = 7\n",
    "# Highest coefficient power used\n",
    "d = 2 ** n\n",
    "# Coefficient modulus\n",
    "c_q = 874\n",
    "delta = c_q // t\n",
    "# Polynomial modulus\n",
    "p_q = np.poly1d([1] + ([0] * (d - 1)) + [1])\n",
    "\n",
    "print(f'n: {n}')\n",
    "print(f't: {t}')\n",
    "print(f'd: {d}')\n",
    "print(f'delta: {delta}')\n",
    "print(f'c_q: {c_q}')\n",
    "print(f'p_q: \\n{p_q}')"
   ]
  },
  {
   "cell_type": "code",
   "execution_count": 7,
   "metadata": {},
   "outputs": [],
   "source": [
    "assert c_q == delta * t + (c_q % t)\n",
    "assert p_q.order == d"
   ]
  },
  {
   "cell_type": "code",
   "execution_count": 8,
   "metadata": {},
   "outputs": [],
   "source": [
    "# Creating our polynomial addition and multiplication functions via our security parameters\n",
    "add = addition(p_q, c_q)\n",
    "mul = multiplication(p_q, c_q)"
   ]
  },
  {
   "cell_type": "markdown",
   "metadata": {},
   "source": [
    "## Secret Key"
   ]
  },
  {
   "cell_type": "code",
   "execution_count": 9,
   "metadata": {},
   "outputs": [
    {
     "name": "stdout",
     "output_type": "stream",
     "text": [
      "   15     14     13     12     10     8     6     5     2\n",
      "1 x  + 1 x  + 1 x  + 1 x  + 1 x  + 1 x + 1 x + 1 x + 1 x\n"
     ]
    }
   ],
   "source": [
    "sk = np.poly1d(np.random.randint(0, 2, d))\n",
    "\n",
    "print(sk)"
   ]
  },
  {
   "cell_type": "markdown",
   "metadata": {},
   "source": [
    "## Public Key"
   ]
  },
  {
   "cell_type": "code",
   "execution_count": 10,
   "metadata": {},
   "outputs": [
    {
     "name": "stdout",
     "output_type": "stream",
     "text": [
      "    15       14       13       12       11       10       9      8\n",
      "29 x  + 195 x  + 692 x  + 407 x  + 193 x  + 237 x  + 316 x + 76 x\n",
      "        7       6       5      4       3       2\n",
      " + 589 x + 292 x + 640 x + 81 x + 201 x + 494 x + 440 x + 248\n"
     ]
    }
   ],
   "source": [
    "a = np.poly1d(np.random.randint(0, c_q, d) % c_q)\n",
    "\n",
    "print(a)"
   ]
  },
  {
   "cell_type": "code",
   "execution_count": 11,
   "metadata": {},
   "outputs": [
    {
     "name": "stdout",
     "output_type": "stream",
     "text": [
      "   14       13       12     10     8       7     6       5       4\n",
      "1 x  + 873 x  + 871 x  + 1 x  + 1 x + 873 x + 2 x + 872 x + 873 x\n",
      "        3\n",
      " + 869 x + 2 x + 3\n"
     ]
    }
   ],
   "source": [
    "e = np.poly1d(np.random.normal(0, 2, d).astype(int) % c_q)\n",
    "\n",
    "print(e)"
   ]
  },
  {
   "cell_type": "code",
   "execution_count": 12,
   "metadata": {},
   "outputs": [
    {
     "name": "stdout",
     "output_type": "stream",
     "text": [
      "     15       14       13       12       11       10       9       8\n",
      "513 x  + 298 x  + 458 x  + 720 x  + 308 x  + 823 x  + 247 x + 114 x\n",
      "        7       6       5       4       3       2\n",
      " + 842 x + 179 x + 862 x + 222 x + 805 x + 630 x + 330 x + 464\n"
     ]
    }
   ],
   "source": [
    "pk_0 = add(-mul(a, sk), e)\n",
    "\n",
    "print(pk_0)"
   ]
  },
  {
   "cell_type": "code",
   "execution_count": 13,
   "metadata": {},
   "outputs": [
    {
     "name": "stdout",
     "output_type": "stream",
     "text": [
      "    15       14       13       12       11       10       9      8\n",
      "29 x  + 195 x  + 692 x  + 407 x  + 193 x  + 237 x  + 316 x + 76 x\n",
      "        7       6       5      4       3       2\n",
      " + 589 x + 292 x + 640 x + 81 x + 201 x + 494 x + 440 x + 248\n"
     ]
    }
   ],
   "source": [
    "pk_1 = a\n",
    "\n",
    "print(pk_1)"
   ]
  },
  {
   "cell_type": "code",
   "execution_count": 14,
   "metadata": {},
   "outputs": [
    {
     "name": "stdout",
     "output_type": "stream",
     "text": [
      "pk_0:\n",
      "\n",
      "     15       14       13       12       11       10       9       8\n",
      "513 x  + 298 x  + 458 x  + 720 x  + 308 x  + 823 x  + 247 x + 114 x\n",
      "        7       6       5       4       3       2\n",
      " + 842 x + 179 x + 862 x + 222 x + 805 x + 630 x + 330 x + 464\n",
      "\n",
      "pk_1:\n",
      "\n",
      "    15       14       13       12       11       10       9      8\n",
      "29 x  + 195 x  + 692 x  + 407 x  + 193 x  + 237 x  + 316 x + 76 x\n",
      "        7       6       5      4       3       2\n",
      " + 589 x + 292 x + 640 x + 81 x + 201 x + 494 x + 440 x + 248\n"
     ]
    }
   ],
   "source": [
    "pk = (pk_0, pk_1)\n",
    "\n",
    "print('pk_0:\\n')\n",
    "print(pk[0])\n",
    "print()\n",
    "print('pk_1:\\n')\n",
    "print(pk[1])"
   ]
  },
  {
   "cell_type": "code",
   "execution_count": 15,
   "metadata": {},
   "outputs": [],
   "source": [
    "# We should be able to extract the error `e` from the public key via the secret key\n",
    "# NOTE: Doing so will make it possible to identify the noise when decrypting later on\n",
    "def test():\n",
    "    extr_e = add(mul(pk[1], sk), pk[0])    \n",
    "    assert_array_equal(extr_e, e)\n",
    "\n",
    "test()"
   ]
  },
  {
   "cell_type": "markdown",
   "metadata": {},
   "source": [
    "## Encryption"
   ]
  },
  {
   "cell_type": "code",
   "execution_count": 16,
   "metadata": {},
   "outputs": [
    {
     "name": "stdout",
     "output_type": "stream",
     "text": [
      "   2\n",
      "2 x + 5\n"
     ]
    }
   ],
   "source": [
    "# 2x^2 + 5\n",
    "m = np.poly1d((np.array([0] * (d - 3) + [2] + [0] + [5])) % t)\n",
    "\n",
    "print(m)"
   ]
  },
  {
   "cell_type": "code",
   "execution_count": 17,
   "metadata": {},
   "outputs": [
    {
     "name": "stdout",
     "output_type": "stream",
     "text": [
      "   15     14     11     9     8     5     4     3\n",
      "1 x  + 1 x  + 1 x  + 1 x + 1 x + 1 x + 1 x + 1 x + 1\n"
     ]
    }
   ],
   "source": [
    "u = np.poly1d(np.random.randint(0, 2, d))\n",
    "\n",
    "print(u)"
   ]
  },
  {
   "cell_type": "code",
   "execution_count": 18,
   "metadata": {},
   "outputs": [
    {
     "name": "stdout",
     "output_type": "stream",
     "text": [
      "   15     12     11     10       9       7       5\n",
      "1 x  + 2 x  + 1 x  + 1 x  + 873 x + 873 x + 868 x + 871 x + 3\n"
     ]
    }
   ],
   "source": [
    "e_1 = np.poly1d(np.random.normal(0, 2, d).astype(int) % c_q)\n",
    "\n",
    "print(e_1)"
   ]
  },
  {
   "cell_type": "code",
   "execution_count": 19,
   "metadata": {},
   "outputs": [
    {
     "name": "stdout",
     "output_type": "stream",
     "text": [
      "   15       14       12     10       9     8       7     5\n",
      "4 x  + 873 x  + 873 x  + 1 x  + 869 x + 2 x + 873 x + 1 x + 3 x + 872\n"
     ]
    }
   ],
   "source": [
    "e_2 = np.poly1d(np.random.normal(0, 2, d).astype(int) % c_q)\n",
    "\n",
    "print(e_2)"
   ]
  },
  {
   "cell_type": "code",
   "execution_count": 20,
   "metadata": {},
   "outputs": [
    {
     "name": "stdout",
     "output_type": "stream",
     "text": [
      "    15       14       13       12       11       10       8       7\n",
      "32 x  + 851 x  + 797 x  + 778 x  + 417 x  + 378 x  + 426 x + 606 x\n",
      "        6       5       4       3       2\n",
      " + 798 x + 132 x + 809 x + 751 x + 166 x + 372 x + 319\n"
     ]
    }
   ],
   "source": [
    "c_0 = add(add(mul(pk[0], u), e_1), mul(delta, m))\n",
    "\n",
    "print(c_0)"
   ]
  },
  {
   "cell_type": "code",
   "execution_count": 21,
   "metadata": {},
   "outputs": [
    {
     "name": "stdout",
     "output_type": "stream",
     "text": [
      "     15       14       13       12       11       10       9       8\n",
      "772 x  + 544 x  + 564 x  + 348 x  + 120 x  + 316 x  + 513 x + 848 x\n",
      "        7       6       5       4       3       2\n",
      " + 341 x + 556 x + 480 x + 640 x + 746 x + 776 x + 392 x + 211\n"
     ]
    }
   ],
   "source": [
    "c_1 = add(mul(pk[1], u), e_2)\n",
    "\n",
    "print(c_1)"
   ]
  },
  {
   "cell_type": "markdown",
   "metadata": {},
   "source": [
    "## Decryption"
   ]
  },
  {
   "cell_type": "code",
   "execution_count": 22,
   "metadata": {},
   "outputs": [
    {
     "name": "stdout",
     "output_type": "stream",
     "text": [
      "   2\n",
      "2 x + 5\n"
     ]
    }
   ],
   "source": [
    "m_prime = np.poly1d(np.round(add(mul(c_1, sk), c_0) * t / c_q) % t)\n",
    "\n",
    "print(m_prime)\n",
    "\n",
    "assert_array_equal(m_prime, m)"
   ]
  }
 ],
 "metadata": {
  "kernelspec": {
   "display_name": "Python 3",
   "language": "python",
   "name": "python3"
  },
  "language_info": {
   "codemirror_mode": {
    "name": "ipython",
    "version": 3
   },
   "file_extension": ".py",
   "mimetype": "text/x-python",
   "name": "python",
   "nbconvert_exporter": "python",
   "pygments_lexer": "ipython3",
   "version": "3.6.9"
  }
 },
 "nbformat": 4,
 "nbformat_minor": 4
}
