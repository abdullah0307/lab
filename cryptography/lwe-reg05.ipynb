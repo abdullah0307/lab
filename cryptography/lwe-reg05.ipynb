{
 "cells": [
  {
   "cell_type": "markdown",
   "metadata": {},
   "source": [
    "# [Regev's LWE](https://cims.nyu.edu/~regev/papers/qcrypto.pdf) Public Key Cryptosystem"
   ]
  },
  {
   "cell_type": "code",
   "execution_count": 1,
   "metadata": {},
   "outputs": [],
   "source": [
    "import numpy as np\n",
    "from numpy.testing import assert_array_equal"
   ]
  },
  {
   "cell_type": "code",
   "execution_count": 2,
   "metadata": {},
   "outputs": [],
   "source": [
    "# Modulus\n",
    "q = 65536\n",
    "# Lattice dimension\n",
    "n = 3"
   ]
  },
  {
   "cell_type": "markdown",
   "metadata": {},
   "source": [
    "## Secret Key"
   ]
  },
  {
   "cell_type": "code",
   "execution_count": 3,
   "metadata": {},
   "outputs": [
    {
     "data": {
      "text/plain": [
       "array([ 1105, 19041, 47494])"
      ]
     },
     "execution_count": 3,
     "metadata": {},
     "output_type": "execute_result"
    }
   ],
   "source": [
    "# Our LWE secret which is used below to construct the Public Key\n",
    "sk = np.random.choice(q, n)\n",
    "sk"
   ]
  },
  {
   "cell_type": "code",
   "execution_count": 4,
   "metadata": {},
   "outputs": [
    {
     "data": {
      "text/plain": [
       "array([64431, 46495, 18042,     1])"
      ]
     },
     "execution_count": 4,
     "metadata": {},
     "output_type": "execute_result"
    }
   ],
   "source": [
    "# With `v` (a variant of our Secret Key `sk`) we can basically recover the error we add when creating our Public Key `pk`\n",
    "v = np.append(-sk % q, [1])\n",
    "v"
   ]
  },
  {
   "cell_type": "markdown",
   "metadata": {},
   "source": [
    "## Public Key"
   ]
  },
  {
   "cell_type": "code",
   "execution_count": 5,
   "metadata": {},
   "outputs": [
    {
     "data": {
      "text/plain": [
       "array([ 5851, 12895,  7497])"
      ]
     },
     "execution_count": 5,
     "metadata": {},
     "output_type": "execute_result"
    }
   ],
   "source": [
    "# This is the error we're introducing to make it hard to recover information from our Public Key `pk`\n",
    "e = np.random.choice(q // 4, n)\n",
    "e"
   ]
  },
  {
   "cell_type": "code",
   "execution_count": 6,
   "metadata": {},
   "outputs": [
    {
     "data": {
      "text/plain": [
       "array([[43390,   454, 35574],\n",
       "       [35489, 32362, 33863],\n",
       "       [27010, 23733, 10572]])"
      ]
     },
     "execution_count": 6,
     "metadata": {},
     "output_type": "execute_result"
    }
   ],
   "source": [
    "# The matrix `A` is our System of Linear Equations\n",
    "A = np.random.choice(q, (n, n))\n",
    "A"
   ]
  },
  {
   "cell_type": "code",
   "execution_count": 7,
   "metadata": {},
   "outputs": [
    {
     "data": {
      "text/plain": [
       "array([ 6787, 43428, 33736])"
      ]
     },
     "execution_count": 7,
     "metadata": {},
     "output_type": "execute_result"
    }
   ],
   "source": [
    "# Here we're computing results for our System of Linear equations (`A`) via our `sk` vector\n",
    "# Note that we add the error term we've defined above\n",
    "b = (A.dot(sk) + e) % q\n",
    "b"
   ]
  },
  {
   "cell_type": "code",
   "execution_count": 8,
   "metadata": {},
   "outputs": [],
   "source": [
    "# The public key is the \"plain\" matrix `A` in combination with an evaluation of such matrix via our `sk`\n",
    "# We essentially append a \"solution\" column to our System of Linear Equations (which is our matrix `A`)\n",
    "pk = np.column_stack((A, b))\n",
    "\n",
    "# Here we test that we can use `v` (a modified version of our Secret Key `sk`) to recover the error `e`\n",
    "# Recovering the error from the Public Key makes it possible to retain encrypted values\n",
    "assert_array_equal(pk.dot(v) % q, e)"
   ]
  },
  {
   "cell_type": "markdown",
   "metadata": {},
   "source": [
    "## Encryption"
   ]
  },
  {
   "cell_type": "code",
   "execution_count": 9,
   "metadata": {},
   "outputs": [
    {
     "data": {
      "text/plain": [
       "32768"
      ]
     },
     "execution_count": 9,
     "metadata": {},
     "output_type": "execute_result"
    }
   ],
   "source": [
    "# Our message is a bit (0 or 1) rather than a number or a string of text\n",
    "# `mu` is either `0` or `q // 2` which makes it possible to determine whether the bit was `0` or `1` once\n",
    "# the error `e` was removed (when decrypting later on)\n",
    "m = 1\n",
    "mu = m * q // 2\n",
    "mu"
   ]
  },
  {
   "cell_type": "code",
   "execution_count": 10,
   "metadata": {},
   "outputs": [
    {
     "data": {
      "text/plain": [
       "array([1, 0, 1])"
      ]
     },
     "execution_count": 10,
     "metadata": {},
     "output_type": "execute_result"
    }
   ],
   "source": [
    "# The `x` acts as a mask which determines which parts of the `pk` / `A` matrix we're about to evaluate\n",
    "x = np.random.choice(2, n)\n",
    "x"
   ]
  },
  {
   "cell_type": "code",
   "execution_count": 11,
   "metadata": {},
   "outputs": [
    {
     "data": {
      "text/plain": [
       "array([    0,     0,     0, 32768])"
      ]
     },
     "execution_count": 11,
     "metadata": {},
     "output_type": "execute_result"
    }
   ],
   "source": [
    "# Using `emb` we're embedding the `mu` value into the \"result column\" when we're evaluating the `pk` / `A` matrix\n",
    "emb = np.append(np.full(n, 0), mu)\n",
    "emb"
   ]
  },
  {
   "cell_type": "code",
   "execution_count": 12,
   "metadata": {},
   "outputs": [
    {
     "data": {
      "text/plain": [
       "array([ 4864, 24187, 46146,  7755])"
      ]
     },
     "execution_count": 12,
     "metadata": {},
     "output_type": "execute_result"
    }
   ],
   "source": [
    "# Using our mask `x` we can evaluate our `pk` / `A` matrix and add the `emb` vector to it such that the `mu` value is\n",
    "# embedded into the result which is our ciphertext\n",
    "c = (x.dot(pk) + emb) % q\n",
    "c"
   ]
  },
  {
   "cell_type": "markdown",
   "metadata": {},
   "source": [
    "## Decryption"
   ]
  },
  {
   "cell_type": "code",
   "execution_count": 13,
   "metadata": {},
   "outputs": [
    {
     "data": {
      "text/plain": [
       "46116"
      ]
     },
     "execution_count": 13,
     "metadata": {},
     "output_type": "execute_result"
    }
   ],
   "source": [
    "# Decryption is as simple as using our `sk` variant `v` to remove the noise from the ciphertext\n",
    "p = c.dot(v) % q\n",
    "p"
   ]
  },
  {
   "cell_type": "code",
   "execution_count": 14,
   "metadata": {},
   "outputs": [
    {
     "name": "stdout",
     "output_type": "stream",
     "text": [
      "The message is 1\n",
      "\n",
      "abs((p - (q // 2)) % q): 13348\n",
      "(p % q):\t\t 46116\n"
     ]
    }
   ],
   "source": [
    "# We can now check if the value we're getting is closer to `q // 2` or `0`\n",
    "# Closer to `q // 2` --> 1 was embedded\n",
    "# Closer to `0`      --> 0 was embedded\n",
    "if abs((p - (q // 2)) % q) < (p % q):\n",
    "    print('The message is 1')\n",
    "else:\n",
    "    print('The message is 0')\n",
    "\n",
    "print()\n",
    "print(f'abs((p - (q // 2)) % q): {abs((p - q // 2) % q)}')\n",
    "print(f'(p % q):\\t\\t {(p % q)}')"
   ]
  }
 ],
 "metadata": {
  "kernelspec": {
   "display_name": "Python 3",
   "language": "python",
   "name": "python3"
  },
  "language_info": {
   "codemirror_mode": {
    "name": "ipython",
    "version": 3
   },
   "file_extension": ".py",
   "mimetype": "text/x-python",
   "name": "python",
   "nbconvert_exporter": "python",
   "pygments_lexer": "ipython3",
   "version": "3.6.9"
  }
 },
 "nbformat": 4,
 "nbformat_minor": 4
}
