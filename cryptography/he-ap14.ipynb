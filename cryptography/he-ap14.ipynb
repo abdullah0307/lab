{
 "cells": [
  {
   "cell_type": "markdown",
   "metadata": {},
   "source": [
    "# [AP14](https://web.eecs.umich.edu/~cpeikert/pubs/polyboot.pdf) Homomorphic Encryption Scheme\n",
    "\n",
    "- [Faster Bootstrapping with Polynomial Error](https://web.eecs.umich.edu/~cpeikert/pubs/polyboot.pdf)\n",
    "- [Homomorphic Encryption from Learning with Errors:Conceptually-Simpler, Asymptotically-Faster, Attribute-Based](https://eprint.iacr.org/2013/340.pdf)\n",
    "- [Fully Homomorphic Encryptionfor Machine Learning](https://www.di.ens.fr/~minelli/docs/phd-thesis.pdf)\n",
    "- [Building a Fully Homomorphic Encryption Scheme in Python](https://courses.csail.mit.edu/6.857/2019/project/15-Hedglin-Phillips-Reilley.pdf)"
   ]
  },
  {
   "cell_type": "code",
   "execution_count": 1,
   "metadata": {},
   "outputs": [],
   "source": [
    "from math import log2, ceil, inf\n",
    "import numpy as np\n",
    "from numpy.testing import assert_array_equal"
   ]
  },
  {
   "cell_type": "code",
   "execution_count": 2,
   "metadata": {},
   "outputs": [],
   "source": [
    "# NOTE: Uncomment to simplfy debugging\n",
    "# np.random.seed(1)"
   ]
  },
  {
   "cell_type": "markdown",
   "metadata": {},
   "source": [
    "## Utility Functions"
   ]
  },
  {
   "cell_type": "code",
   "execution_count": 3,
   "metadata": {},
   "outputs": [],
   "source": [
    "def generate_gadget_matrix(n, l, modulus):\n",
    "    \"\"\"\n",
    "    Generates the gadget matrix `G` which is a block-diagonal matrix of powers of 2.\n",
    "    \"\"\"\n",
    "    # NOTE: In the paper the range is `l - 1` but Pythons `range` function already excludes the last entry\n",
    "    g = np.array([1 << i for i in range(l)])\n",
    "    I = np.eye(n)\n",
    "    G = np.kron(I, g).astype(int)\n",
    "    return G\n",
    "\n",
    "def test():\n",
    "    q = 65536\n",
    "    n = 3\n",
    "    l = ceil(log2(q))\n",
    "    result = generate_gadget_matrix(n, l, modulus=q)\n",
    "    expected = np.array([\n",
    "        [\n",
    "            1,     2,     4,     8,    16,    32,    64,   128,   256,\n",
    "          512,  1024,  2048,  4096,  8192, 16384, 32768,     0,     0,\n",
    "            0,     0,     0,     0,     0,     0,     0,     0,     0,\n",
    "            0,     0,     0,     0,     0,     0,     0,     0,     0,\n",
    "            0,     0,     0,     0,     0,     0,     0,     0,     0,\n",
    "            0,     0,     0\n",
    "        ],\n",
    "        [\n",
    "            0,     0,     0,     0,     0,     0,     0,     0,     0,\n",
    "            0,     0,     0,     0,     0,     0,     0,     1,     2,\n",
    "            4,     8,    16,    32,    64,   128,   256,   512,  1024,\n",
    "         2048,  4096,  8192, 16384, 32768,     0,     0,     0,     0,\n",
    "            0,     0,     0,     0,     0,     0,     0,     0,     0,\n",
    "            0,     0,     0\n",
    "        ],\n",
    "        [\n",
    "            0,     0,     0,     0,     0,     0,     0,     0,     0,\n",
    "            0,     0,     0,     0,     0,     0,     0,     0,     0,\n",
    "            0,     0,     0,     0,     0,     0,     0,     0,     0,\n",
    "            0,     0,     0,     0,     0,     1,     2,     4,     8,\n",
    "           16,    32,    64,   128,   256,   512,  1024,  2048,  4096,\n",
    "         8192, 16384, 32768\n",
    "        ]\n",
    "    ])\n",
    "    assert result.shape == (n, n * l)\n",
    "    assert_array_equal(result, expected)\n",
    "\n",
    "test()"
   ]
  },
  {
   "cell_type": "code",
   "execution_count": 4,
   "metadata": {},
   "outputs": [],
   "source": [
    "def num_to_bin_vector(number, width):\n",
    "    \"\"\"\n",
    "    Translates a number to a fixed-width binary vector\n",
    "    \"\"\"\n",
    "    return np.array([(int(number) >> i & 1) for i in range(width)])\n",
    "\n",
    "def test():\n",
    "    # Integer\n",
    "    number = 64\n",
    "    width = 8\n",
    "    result = num_to_bin_vector(number, width)\n",
    "    assert_array_equal(result, np.array([0, 0, 0, 0, 0, 0, 1, 0]))\n",
    "    # Float\n",
    "    number = 1024.0\n",
    "    width = 11\n",
    "    result = num_to_bin_vector(number, width)\n",
    "    assert_array_equal(result, np.array([0, 0, 0, 0, 0, 0, 0, 0, 0, 0, 1]))\n",
    "\n",
    "test()"
   ]
  },
  {
   "cell_type": "code",
   "execution_count": 5,
   "metadata": {},
   "outputs": [],
   "source": [
    "def bit_decomp(matrix, padding):\n",
    "    \"\"\"\n",
    "    Decomposes a given matrix into its corresponding binary representation\n",
    "    NOTE: The binary numbers are returned in a columnar fashion starting with the LSB\n",
    "    ASIDE: This funciton is called G^-1 or G_inv in the literature\n",
    "    \"\"\"\n",
    "    result_matrix = []\n",
    "    for column in matrix.T:\n",
    "        interim_matrix = []\n",
    "        for value in column:\n",
    "            interim_matrix.append(num_to_bin_vector(value, padding))\n",
    "        result_matrix.append(interim_matrix)\n",
    "    return np.array(result_matrix).reshape(matrix.shape[1], padding * matrix.shape[0]).T\n",
    "\n",
    "def test():\n",
    "    # Non-square matrix\n",
    "    result = bit_decomp(np.array([\n",
    "        [64, 32, 16],\n",
    "        [8, 4, 2]]), padding=8)\n",
    "    expected = np.array([\n",
    "        [0, 0, 0],\n",
    "        [0, 0, 0],\n",
    "        [0, 0, 0],\n",
    "        [0, 0, 0],\n",
    "        [0, 0, 1],\n",
    "        [0, 1, 0],\n",
    "        [1, 0, 0],\n",
    "        [0, 0, 0],\n",
    "        #########\n",
    "        [0, 0, 0],\n",
    "        [0, 0, 1],\n",
    "        [0, 1, 0],\n",
    "        [1, 0, 0],\n",
    "        [0, 0, 0],\n",
    "        [0, 0, 0],\n",
    "        [0, 0, 0],\n",
    "        [0, 0, 0],\n",
    "    ])\n",
    "    assert_array_equal(result, expected)\n",
    "    # Square matrix\n",
    "    result = bit_decomp(np.array([\n",
    "        [64, 32],\n",
    "        [16, 8]]), padding=8)\n",
    "    expected = np.array([\n",
    "        [0, 0],\n",
    "        [0, 0],\n",
    "        [0, 0],\n",
    "        [0, 0],\n",
    "        [0, 0],\n",
    "        [0, 1],\n",
    "        [1, 0],\n",
    "        [0, 0],\n",
    "        ######\n",
    "        [0, 0],\n",
    "        [0, 0],\n",
    "        [0, 0],\n",
    "        [0, 1],\n",
    "        [1, 0],\n",
    "        [0, 0],\n",
    "        [0, 0],\n",
    "        [0, 0],\n",
    "    ])\n",
    "    assert_array_equal(result, expected)\n",
    "\n",
    "test()"
   ]
  },
  {
   "cell_type": "markdown",
   "metadata": {},
   "source": [
    "## Security Parameters"
   ]
  },
  {
   "cell_type": "code",
   "execution_count": 6,
   "metadata": {},
   "outputs": [
    {
     "name": "stdout",
     "output_type": "stream",
     "text": [
      "q: 65536\n",
      "l: 16\n",
      "n: 3\n",
      "m: 48\n"
     ]
    }
   ],
   "source": [
    "# NOTE: One might need to increase `q` and `n` such that the growing noise when adding / multiplying ciphertexts\n",
    "# won't cause the decryption to fail.\n",
    "q = pow(2, 16)\n",
    "n = 3\n",
    "l = ceil(log2(q))\n",
    "m = n * l\n",
    "\n",
    "print(f'q: {q}')\n",
    "print(f'l: {l}')\n",
    "print(f'n: {n}')\n",
    "print(f'm: {m}')"
   ]
  },
  {
   "cell_type": "markdown",
   "metadata": {},
   "source": [
    "## Secret Key"
   ]
  },
  {
   "cell_type": "code",
   "execution_count": 7,
   "metadata": {},
   "outputs": [
    {
     "name": "stdout",
     "output_type": "stream",
     "text": [
      "[25708 58288]\n",
      "(2,)\n"
     ]
    }
   ],
   "source": [
    "s = np.random.choice(q, n - 1) % q\n",
    "\n",
    "print(s)\n",
    "print(s.shape)\n",
    "\n",
    "assert s.shape == (n - 1,)"
   ]
  },
  {
   "cell_type": "code",
   "execution_count": 8,
   "metadata": {},
   "outputs": [
    {
     "name": "stdout",
     "output_type": "stream",
     "text": [
      "[25708 58288     1]\n",
      "(3,)\n"
     ]
    }
   ],
   "source": [
    "sk = np.append(s, [1])\n",
    "\n",
    "print(sk)\n",
    "print(sk.shape)\n",
    "\n",
    "assert sk.shape == (n,)"
   ]
  },
  {
   "cell_type": "markdown",
   "metadata": {},
   "source": [
    "## Public Key"
   ]
  },
  {
   "cell_type": "code",
   "execution_count": 9,
   "metadata": {},
   "outputs": [
    {
     "name": "stdout",
     "output_type": "stream",
     "text": [
      "[65534 65535     0     0     0 65535 65534     0     0 65534 65534     0\n",
      "     1 65535     2     0     0 65535 65535     1     0     1 65535     1\n",
      "     0     0     0     1     1     0     0     0     2 65533     0     2\n",
      "     0     0     1     1     1 65535 65535     0     1     1     0     0]\n",
      "(48,)\n"
     ]
    }
   ],
   "source": [
    "e = np.rint(np.random.normal(0.0, 1.0, m)).astype(int) % q\n",
    "\n",
    "print(e)\n",
    "print(e.shape)\n",
    "\n",
    "assert e.shape == (m,)"
   ]
  },
  {
   "cell_type": "code",
   "execution_count": 10,
   "metadata": {},
   "outputs": [
    {
     "name": "stdout",
     "output_type": "stream",
     "text": [
      "[[64215 45153 49341 55156 21866  8970  5513 64479 37170 33768 35233 26892\n",
      "  21533 12667 14561 32478 55939  6468 21045 17047 30137 49223 39669 57276\n",
      "   8985 34606   728 48747 34413  6141 43548 32825 42637 62786 22535 34439\n",
      "  46608 12739 23711 15682 51586 39983 57274 63859 63842 11879 11902 22578]\n",
      " [26696  4082 42398 46255 55206 35564 38096 46248  5960 37039 26188 27157\n",
      "  14038 15815 53570 36947 35058  5331 49211  1027 53443 31511 45654  5497\n",
      "  21867  2332 42120 13762 42124 27466 10084 20085 21037 51447 44144 36451\n",
      "  13804   318 16071 39140 46208 58346 24600 54678 17659  5866  4189 57839]]\n",
      "(2, 48)\n"
     ]
    }
   ],
   "source": [
    "A = np.random.choice(q, (n - 1, m)) % q\n",
    "\n",
    "print(A)\n",
    "print(A.shape)\n",
    "\n",
    "assert A.shape == (n - 1, m)"
   ]
  },
  {
   "cell_type": "code",
   "execution_count": 11,
   "metadata": {},
   "outputs": [
    {
     "name": "stdout",
     "output_type": "stream",
     "text": [
      "[22578 55627  6748 39488 58584 30327 22730 35220 41624 60206 44074 36480\n",
      " 17757 55731 17998  4024  6052 41663 56299 32453 23836 57029 61563 57729\n",
      " 11548  5800 18592  7301 36413 21404 29840  2940 48494 28325 48116 10758\n",
      " 25856 65252 52453 59545 25305 28339 25335   420 31465  3669 35864 65128]\n",
      "(48,)\n"
     ]
    }
   ],
   "source": [
    "b = (s.dot(A) + e) % q\n",
    "\n",
    "print(b)\n",
    "print(b.shape)\n",
    "\n",
    "assert b.shape == (m,)"
   ]
  },
  {
   "cell_type": "code",
   "execution_count": 12,
   "metadata": {},
   "outputs": [
    {
     "name": "stdout",
     "output_type": "stream",
     "text": [
      "[[-64215 -45153 -49341 -55156 -21866  -8970  -5513 -64479 -37170 -33768\n",
      "  -35233 -26892 -21533 -12667 -14561 -32478 -55939  -6468 -21045 -17047\n",
      "  -30137 -49223 -39669 -57276  -8985 -34606   -728 -48747 -34413  -6141\n",
      "  -43548 -32825 -42637 -62786 -22535 -34439 -46608 -12739 -23711 -15682\n",
      "  -51586 -39983 -57274 -63859 -63842 -11879 -11902 -22578]\n",
      " [-26696  -4082 -42398 -46255 -55206 -35564 -38096 -46248  -5960 -37039\n",
      "  -26188 -27157 -14038 -15815 -53570 -36947 -35058  -5331 -49211  -1027\n",
      "  -53443 -31511 -45654  -5497 -21867  -2332 -42120 -13762 -42124 -27466\n",
      "  -10084 -20085 -21037 -51447 -44144 -36451 -13804   -318 -16071 -39140\n",
      "  -46208 -58346 -24600 -54678 -17659  -5866  -4189 -57839]\n",
      " [ 22578  55627   6748  39488  58584  30327  22730  35220  41624  60206\n",
      "   44074  36480  17757  55731  17998   4024   6052  41663  56299  32453\n",
      "   23836  57029  61563  57729  11548   5800  18592   7301  36413  21404\n",
      "   29840   2940  48494  28325  48116  10758  25856  65252  52453  59545\n",
      "   25305  28339  25335    420  31465   3669  35864  65128]]\n",
      "(3, 48)\n"
     ]
    }
   ],
   "source": [
    "pk = np.row_stack((-A, b))\n",
    "\n",
    "print(pk)\n",
    "print(pk.shape)\n",
    "\n",
    "assert pk.shape == (n, m)\n",
    "assert_array_equal(pk[:n - 1], -A)\n",
    "assert_array_equal(pk[n - 1], b)"
   ]
  },
  {
   "cell_type": "code",
   "execution_count": 13,
   "metadata": {},
   "outputs": [],
   "source": [
    "assert_array_equal(sk.dot(pk) % q, e)"
   ]
  },
  {
   "cell_type": "markdown",
   "metadata": {},
   "source": [
    "## Encryption"
   ]
  },
  {
   "cell_type": "code",
   "execution_count": 14,
   "metadata": {},
   "outputs": [
    {
     "name": "stdout",
     "output_type": "stream",
     "text": [
      "42\n"
     ]
    }
   ],
   "source": [
    "mu = 42\n",
    "\n",
    "print(mu)"
   ]
  },
  {
   "cell_type": "code",
   "execution_count": 15,
   "metadata": {},
   "outputs": [
    {
     "name": "stdout",
     "output_type": "stream",
     "text": [
      "[[    1     2     4     8    16    32    64   128   256   512  1024  2048\n",
      "   4096  8192 16384 32768     0     0     0     0     0     0     0     0\n",
      "      0     0     0     0     0     0     0     0     0     0     0     0\n",
      "      0     0     0     0     0     0     0     0     0     0     0     0]\n",
      " [    0     0     0     0     0     0     0     0     0     0     0     0\n",
      "      0     0     0     0     1     2     4     8    16    32    64   128\n",
      "    256   512  1024  2048  4096  8192 16384 32768     0     0     0     0\n",
      "      0     0     0     0     0     0     0     0     0     0     0     0]\n",
      " [    0     0     0     0     0     0     0     0     0     0     0     0\n",
      "      0     0     0     0     0     0     0     0     0     0     0     0\n",
      "      0     0     0     0     0     0     0     0     1     2     4     8\n",
      "     16    32    64   128   256   512  1024  2048  4096  8192 16384 32768]]\n",
      "(3, 48)\n"
     ]
    }
   ],
   "source": [
    "G = generate_gadget_matrix(n, l, q)\n",
    "\n",
    "print(G)\n",
    "print(G.shape)\n",
    "\n",
    "assert G.shape == (n, m)"
   ]
  },
  {
   "cell_type": "code",
   "execution_count": 16,
   "metadata": {},
   "outputs": [
    {
     "name": "stdout",
     "output_type": "stream",
     "text": [
      "[[1 1 0 ... 0 0 1]\n",
      " [1 0 0 ... 0 0 0]\n",
      " [1 0 1 ... 1 1 0]\n",
      " ...\n",
      " [0 1 1 ... 0 1 1]\n",
      " [1 0 1 ... 0 0 1]\n",
      " [0 0 1 ... 0 1 1]]\n",
      "(48, 48)\n"
     ]
    }
   ],
   "source": [
    "R = np.random.choice(2, (m, m)) % q\n",
    "\n",
    "print(R)\n",
    "print(R.shape)\n",
    "\n",
    "assert R.shape == (m, m)"
   ]
  },
  {
   "cell_type": "code",
   "execution_count": 17,
   "metadata": {},
   "outputs": [
    {
     "name": "stdout",
     "output_type": "stream",
     "text": [
      "[[ 5710 58646 63027 60887 20432 15002 29460 49609 25884 60422 10572 59629\n",
      "   2726 36781 54479 22299  7826 56710 12694 16278 35086 60355  5784 36685\n",
      "  41232 37847 58590 14799   800  2681 54920  4542  1748 53758  2872 42193\n",
      "  49190 33652 19464 29554 26236 44235 29130 33487 20935 39222 38041 64979]\n",
      " [ 8674 40445  4531   807 15622 21739 10207 25420 27748  1709  9135 20603\n",
      "  57437 10352 65079 55336 58944 47881 62907 13295  1305 34742 20109 27045\n",
      "  48469 34416 58804 62710 55975     7 24309 56710 25977  7707 51959 49569\n",
      "  21407 36200 51714 61164 29839 49131 19509 28358 41080 44484 45471 57315]\n",
      " [59241 49465 14669 47931 27041 37756 60226 61172 61287 34691  3742 33395\n",
      "  29446 45569 53722 41238 24894 22539  9891 51816 47081  2717 51189 63250\n",
      "   9165 43079 45717 13710 50867  5923 55087 11707 16517 36251 54839 62323\n",
      "  41032 53458 12223 21163 36451 53199 23391 35467 43404 17015 61736 18928]]\n",
      "(3, 48)\n"
     ]
    }
   ],
   "source": [
    "C = ((pk @ R) + (mu * G)) % q\n",
    "\n",
    "print(C)\n",
    "print(C.shape)\n",
    "\n",
    "assert C.shape == (n, m)"
   ]
  },
  {
   "cell_type": "markdown",
   "metadata": {},
   "source": [
    "## Decryption"
   ]
  },
  {
   "cell_type": "code",
   "execution_count": 18,
   "metadata": {},
   "outputs": [
    {
     "name": "stdout",
     "output_type": "stream",
     "text": [
      "[31153 62321 59105 52671 39809 14084 28162 56320 47095 28667 57342 49151\n",
      " 32766 65533 65534 65530 23254 46531 27515 55040 44545 23553 47109 28670\n",
      " 57341 49147 32765     2     3 65535 65535     3    37    83   167   335\n",
      "   672  1346  2687  5379 10755 21507 43015 20479 40960 16383 32772     4]\n",
      "(48,)\n"
     ]
    }
   ],
   "source": [
    "msg = sk.dot(C) % q\n",
    "\n",
    "print(msg)\n",
    "print(msg.shape)\n",
    "\n",
    "assert msg.shape == (m,)"
   ]
  },
  {
   "cell_type": "code",
   "execution_count": 19,
   "metadata": {},
   "outputs": [
    {
     "name": "stdout",
     "output_type": "stream",
     "text": [
      "[25708 51416 37296  9056 18112 36224  6912 13824 27648 55296 45056 24576\n",
      " 49152 32768     0     0 58288 51040 36544  7552 15104 30208 60416 55296\n",
      " 45056 24576 49152 32768     0     0     0     0     1     2     4     8\n",
      "    16    32    64   128   256   512  1024  2048  4096  8192 16384 32768]\n",
      "(48,)\n"
     ]
    }
   ],
   "source": [
    "sg = sk.dot(G) % q\n",
    "\n",
    "print(sg)\n",
    "print(sg.shape)\n",
    "\n",
    "assert sg.shape == (m,)"
   ]
  },
  {
   "cell_type": "code",
   "execution_count": 20,
   "metadata": {},
   "outputs": [
    {
     "name": "stdout",
     "output_type": "stream",
     "text": [
      "[ 1  1  1  5  2  0  4  4  1  0  1  1  0  1  0  0  0  0  0  7  2  0  0  0\n",
      "  1  1  0  0  0  0  0  0 37 41 41 41 42 42 41 42 42 42 42  9 10  1  2  0]\n",
      "(48,)\n"
     ]
    }
   ],
   "source": [
    "# We might run into \"divide by zero\" RuntimeWarnings here\n",
    "with np.errstate(divide='ignore',invalid='ignore'):\n",
    "    r = (msg // sg)\n",
    "\n",
    "print(r)\n",
    "print(r.shape)\n",
    "\n",
    "assert r.shape == (m,)"
   ]
  },
  {
   "cell_type": "code",
   "execution_count": 21,
   "metadata": {},
   "outputs": [
    {
     "name": "stdout",
     "output_type": "stream",
     "text": [
      "The value is: 42\n"
     ]
    }
   ],
   "source": [
    "res = 0\n",
    "dist = inf\n",
    "\n",
    "for val in np.unique(r):\n",
    "    d = (msg - (val * sg)) % q\n",
    "    d = np.minimum(d, q - d) % q\n",
    "    d = int(np.linalg.norm(d)) % q\n",
    "    if d < dist:\n",
    "        res = val\n",
    "        dist = d\n",
    "\n",
    "print(f'The value is: {res}')\n",
    "\n",
    "assert res == mu"
   ]
  },
  {
   "cell_type": "markdown",
   "metadata": {},
   "source": [
    "## Homomorphic Addition / Multiplication"
   ]
  },
  {
   "cell_type": "code",
   "execution_count": 22,
   "metadata": {},
   "outputs": [],
   "source": [
    "def encrypt(mu):\n",
    "    \"\"\"\n",
    "    The encryption logic from above in a single function\n",
    "    \"\"\"\n",
    "    return ((pk @ R) + (mu * G)) % q"
   ]
  },
  {
   "cell_type": "code",
   "execution_count": 23,
   "metadata": {},
   "outputs": [],
   "source": [
    "def decrypt(C):\n",
    "    \"\"\"\n",
    "    The decryption logic from above in a single function\n",
    "    \"\"\"\n",
    "    msg = sk.dot(C) % q\n",
    "    sg = sk.dot(G) % q\n",
    "    with np.errstate(divide='ignore',invalid='ignore'):\n",
    "        r = (msg // sg)\n",
    "    \n",
    "    res = 0\n",
    "    dist = inf\n",
    "\n",
    "    for val in np.unique(r):\n",
    "        d = (msg - (val * sg)) % q\n",
    "        d = np.minimum(d, q - d) % q\n",
    "        d = int(np.linalg.norm(d)) % q\n",
    "        if d < dist:\n",
    "            res = val\n",
    "            dist = d\n",
    "\n",
    "    return res"
   ]
  },
  {
   "cell_type": "code",
   "execution_count": 24,
   "metadata": {},
   "outputs": [
    {
     "name": "stdout",
     "output_type": "stream",
     "text": [
      "100\n"
     ]
    }
   ],
   "source": [
    "res = decrypt((encrypt(42) + encrypt(28) + encrypt(30)) % q)\n",
    "\n",
    "print(res)\n",
    "\n",
    "assert res == 42 + 28 + 30"
   ]
  },
  {
   "cell_type": "code",
   "execution_count": 25,
   "metadata": {},
   "outputs": [
    {
     "name": "stdout",
     "output_type": "stream",
     "text": [
      "18\n"
     ]
    }
   ],
   "source": [
    "res = decrypt(((encrypt(2) + encrypt(4)) % q) @ bit_decomp(encrypt(3), l) % q)\n",
    "\n",
    "print(res)\n",
    "\n",
    "assert res == (2 + 4) * 3"
   ]
  }
 ],
 "metadata": {
  "kernelspec": {
   "display_name": "Python 3",
   "language": "python",
   "name": "python3"
  },
  "language_info": {
   "codemirror_mode": {
    "name": "ipython",
    "version": 3
   },
   "file_extension": ".py",
   "mimetype": "text/x-python",
   "name": "python",
   "nbconvert_exporter": "python",
   "pygments_lexer": "ipython3",
   "version": "3.6.9"
  }
 },
 "nbformat": 4,
 "nbformat_minor": 4
}
